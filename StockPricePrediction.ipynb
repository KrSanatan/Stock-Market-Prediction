{
  "nbformat": 4,
  "nbformat_minor": 0,
  "metadata": {
    "colab": {
      "provenance": []
    },
    "kernelspec": {
      "name": "python3",
      "display_name": "Python 3"
    },
    "language_info": {
      "name": "python"
    }
  },
  "cells": [
    {
      "cell_type": "code",
      "execution_count": null,
      "metadata": {
        "id": "PM-qKhLiKQpe"
      },
      "outputs": [],
      "source": []
    },
    {
      "cell_type": "markdown",
      "source": [
        "# **Stock Market Prediction and Forecasting using Stacked LSTM**"
      ],
      "metadata": {
        "id": "Qjn4G-k5iqJV"
      }
    },
    {
      "cell_type": "code",
      "source": [
        "#using keras and tensorflow"
      ],
      "metadata": {
        "id": "vD-QOpZyiypL"
      },
      "execution_count": 1,
      "outputs": []
    },
    {
      "cell_type": "code",
      "source": [
        "#Data Collection\n",
        "import pandas_datareader as pdr"
      ],
      "metadata": {
        "id": "jTcohKp1o4Lk"
      },
      "execution_count": 11,
      "outputs": []
    },
    {
      "cell_type": "code",
      "source": [
        "key = '0fd52ed6ff4942ab6ae94a0b0cd72add481f9d43'\n",
        "df = pdr.get_data_tiingo('AAPL',api_key=key)\n"
      ],
      "metadata": {
        "colab": {
          "base_uri": "https://localhost:8080/"
        },
        "id": "bNAQf3nnpoIW",
        "outputId": "594f4773-fe98-4f98-9f38-aa39beb67be7"
      },
      "execution_count": 12,
      "outputs": [
        {
          "output_type": "stream",
          "name": "stderr",
          "text": [
            "<ipython-input-12-eb12c31c8bec>:2: FutureWarning: In a future version of pandas all arguments of concat except for the argument 'objs' will be keyword-only.\n",
            "  df = pdr.get_data_tiingo('AAPL',api_key=key)\n"
          ]
        }
      ]
    },
    {
      "cell_type": "code",
      "source": [
        "df.to_csv('AAPL.csv')"
      ],
      "metadata": {
        "id": "tVi7-N27qrRQ"
      },
      "execution_count": 15,
      "outputs": []
    },
    {
      "cell_type": "code",
      "source": [
        "df.head()"
      ],
      "metadata": {
        "colab": {
          "base_uri": "https://localhost:8080/",
          "height": 238
        },
        "id": "nOFB8PAfsbrI",
        "outputId": "5aaeccdf-c8d2-46c3-9303-ed79e810a7d0"
      },
      "execution_count": 16,
      "outputs": [
        {
          "output_type": "execute_result",
          "data": {
            "text/plain": [
              "                                   close    high     low    open    volume  \\\n",
              "symbol date                                                                  \n",
              "AAPL   2018-10-22 00:00:00+00:00  220.65  223.36  218.94  219.79  28792082   \n",
              "       2018-10-23 00:00:00+00:00  222.73  223.25  214.70  215.83  38767846   \n",
              "       2018-10-24 00:00:00+00:00  215.09  224.23  214.54  222.60  40925163   \n",
              "       2018-10-25 00:00:00+00:00  219.80  221.38  216.75  217.71  29855768   \n",
              "       2018-10-26 00:00:00+00:00  216.30  220.19  212.67  215.90  47258375   \n",
              "\n",
              "                                   adjClose    adjHigh     adjLow    adjOpen  \\\n",
              "symbol date                                                                    \n",
              "AAPL   2018-10-22 00:00:00+00:00  52.827106  53.475923  52.417705  52.621209   \n",
              "       2018-10-23 00:00:00+00:00  53.325091  53.449587  51.402582  51.673122   \n",
              "       2018-10-24 00:00:00+00:00  51.495954  53.684215  51.364275  53.293967   \n",
              "       2018-10-25 00:00:00+00:00  52.623603  53.001880  51.893384  52.123224   \n",
              "       2018-10-26 00:00:00+00:00  51.785647  52.716975  50.916568  51.689881   \n",
              "\n",
              "                                  adjVolume  divCash  splitFactor  \n",
              "symbol date                                                        \n",
              "AAPL   2018-10-22 00:00:00+00:00  115168328      0.0          1.0  \n",
              "       2018-10-23 00:00:00+00:00  155071384      0.0          1.0  \n",
              "       2018-10-24 00:00:00+00:00  163700652      0.0          1.0  \n",
              "       2018-10-25 00:00:00+00:00  119423072      0.0          1.0  \n",
              "       2018-10-26 00:00:00+00:00  189033500      0.0          1.0  "
            ],
            "text/html": [
              "\n",
              "  <div id=\"df-b79f8a69-890a-48b0-8d73-28427c9d3c60\" class=\"colab-df-container\">\n",
              "    <div>\n",
              "<style scoped>\n",
              "    .dataframe tbody tr th:only-of-type {\n",
              "        vertical-align: middle;\n",
              "    }\n",
              "\n",
              "    .dataframe tbody tr th {\n",
              "        vertical-align: top;\n",
              "    }\n",
              "\n",
              "    .dataframe thead th {\n",
              "        text-align: right;\n",
              "    }\n",
              "</style>\n",
              "<table border=\"1\" class=\"dataframe\">\n",
              "  <thead>\n",
              "    <tr style=\"text-align: right;\">\n",
              "      <th></th>\n",
              "      <th></th>\n",
              "      <th>close</th>\n",
              "      <th>high</th>\n",
              "      <th>low</th>\n",
              "      <th>open</th>\n",
              "      <th>volume</th>\n",
              "      <th>adjClose</th>\n",
              "      <th>adjHigh</th>\n",
              "      <th>adjLow</th>\n",
              "      <th>adjOpen</th>\n",
              "      <th>adjVolume</th>\n",
              "      <th>divCash</th>\n",
              "      <th>splitFactor</th>\n",
              "    </tr>\n",
              "    <tr>\n",
              "      <th>symbol</th>\n",
              "      <th>date</th>\n",
              "      <th></th>\n",
              "      <th></th>\n",
              "      <th></th>\n",
              "      <th></th>\n",
              "      <th></th>\n",
              "      <th></th>\n",
              "      <th></th>\n",
              "      <th></th>\n",
              "      <th></th>\n",
              "      <th></th>\n",
              "      <th></th>\n",
              "      <th></th>\n",
              "    </tr>\n",
              "  </thead>\n",
              "  <tbody>\n",
              "    <tr>\n",
              "      <th rowspan=\"5\" valign=\"top\">AAPL</th>\n",
              "      <th>2018-10-22 00:00:00+00:00</th>\n",
              "      <td>220.65</td>\n",
              "      <td>223.36</td>\n",
              "      <td>218.94</td>\n",
              "      <td>219.79</td>\n",
              "      <td>28792082</td>\n",
              "      <td>52.827106</td>\n",
              "      <td>53.475923</td>\n",
              "      <td>52.417705</td>\n",
              "      <td>52.621209</td>\n",
              "      <td>115168328</td>\n",
              "      <td>0.0</td>\n",
              "      <td>1.0</td>\n",
              "    </tr>\n",
              "    <tr>\n",
              "      <th>2018-10-23 00:00:00+00:00</th>\n",
              "      <td>222.73</td>\n",
              "      <td>223.25</td>\n",
              "      <td>214.70</td>\n",
              "      <td>215.83</td>\n",
              "      <td>38767846</td>\n",
              "      <td>53.325091</td>\n",
              "      <td>53.449587</td>\n",
              "      <td>51.402582</td>\n",
              "      <td>51.673122</td>\n",
              "      <td>155071384</td>\n",
              "      <td>0.0</td>\n",
              "      <td>1.0</td>\n",
              "    </tr>\n",
              "    <tr>\n",
              "      <th>2018-10-24 00:00:00+00:00</th>\n",
              "      <td>215.09</td>\n",
              "      <td>224.23</td>\n",
              "      <td>214.54</td>\n",
              "      <td>222.60</td>\n",
              "      <td>40925163</td>\n",
              "      <td>51.495954</td>\n",
              "      <td>53.684215</td>\n",
              "      <td>51.364275</td>\n",
              "      <td>53.293967</td>\n",
              "      <td>163700652</td>\n",
              "      <td>0.0</td>\n",
              "      <td>1.0</td>\n",
              "    </tr>\n",
              "    <tr>\n",
              "      <th>2018-10-25 00:00:00+00:00</th>\n",
              "      <td>219.80</td>\n",
              "      <td>221.38</td>\n",
              "      <td>216.75</td>\n",
              "      <td>217.71</td>\n",
              "      <td>29855768</td>\n",
              "      <td>52.623603</td>\n",
              "      <td>53.001880</td>\n",
              "      <td>51.893384</td>\n",
              "      <td>52.123224</td>\n",
              "      <td>119423072</td>\n",
              "      <td>0.0</td>\n",
              "      <td>1.0</td>\n",
              "    </tr>\n",
              "    <tr>\n",
              "      <th>2018-10-26 00:00:00+00:00</th>\n",
              "      <td>216.30</td>\n",
              "      <td>220.19</td>\n",
              "      <td>212.67</td>\n",
              "      <td>215.90</td>\n",
              "      <td>47258375</td>\n",
              "      <td>51.785647</td>\n",
              "      <td>52.716975</td>\n",
              "      <td>50.916568</td>\n",
              "      <td>51.689881</td>\n",
              "      <td>189033500</td>\n",
              "      <td>0.0</td>\n",
              "      <td>1.0</td>\n",
              "    </tr>\n",
              "  </tbody>\n",
              "</table>\n",
              "</div>\n",
              "    <div class=\"colab-df-buttons\">\n",
              "\n",
              "  <div class=\"colab-df-container\">\n",
              "    <button class=\"colab-df-convert\" onclick=\"convertToInteractive('df-b79f8a69-890a-48b0-8d73-28427c9d3c60')\"\n",
              "            title=\"Convert this dataframe to an interactive table.\"\n",
              "            style=\"display:none;\">\n",
              "\n",
              "  <svg xmlns=\"http://www.w3.org/2000/svg\" height=\"24px\" viewBox=\"0 -960 960 960\">\n",
              "    <path d=\"M120-120v-720h720v720H120Zm60-500h600v-160H180v160Zm220 220h160v-160H400v160Zm0 220h160v-160H400v160ZM180-400h160v-160H180v160Zm440 0h160v-160H620v160ZM180-180h160v-160H180v160Zm440 0h160v-160H620v160Z\"/>\n",
              "  </svg>\n",
              "    </button>\n",
              "\n",
              "  <style>\n",
              "    .colab-df-container {\n",
              "      display:flex;\n",
              "      gap: 12px;\n",
              "    }\n",
              "\n",
              "    .colab-df-convert {\n",
              "      background-color: #E8F0FE;\n",
              "      border: none;\n",
              "      border-radius: 50%;\n",
              "      cursor: pointer;\n",
              "      display: none;\n",
              "      fill: #1967D2;\n",
              "      height: 32px;\n",
              "      padding: 0 0 0 0;\n",
              "      width: 32px;\n",
              "    }\n",
              "\n",
              "    .colab-df-convert:hover {\n",
              "      background-color: #E2EBFA;\n",
              "      box-shadow: 0px 1px 2px rgba(60, 64, 67, 0.3), 0px 1px 3px 1px rgba(60, 64, 67, 0.15);\n",
              "      fill: #174EA6;\n",
              "    }\n",
              "\n",
              "    .colab-df-buttons div {\n",
              "      margin-bottom: 4px;\n",
              "    }\n",
              "\n",
              "    [theme=dark] .colab-df-convert {\n",
              "      background-color: #3B4455;\n",
              "      fill: #D2E3FC;\n",
              "    }\n",
              "\n",
              "    [theme=dark] .colab-df-convert:hover {\n",
              "      background-color: #434B5C;\n",
              "      box-shadow: 0px 1px 3px 1px rgba(0, 0, 0, 0.15);\n",
              "      filter: drop-shadow(0px 1px 2px rgba(0, 0, 0, 0.3));\n",
              "      fill: #FFFFFF;\n",
              "    }\n",
              "  </style>\n",
              "\n",
              "    <script>\n",
              "      const buttonEl =\n",
              "        document.querySelector('#df-b79f8a69-890a-48b0-8d73-28427c9d3c60 button.colab-df-convert');\n",
              "      buttonEl.style.display =\n",
              "        google.colab.kernel.accessAllowed ? 'block' : 'none';\n",
              "\n",
              "      async function convertToInteractive(key) {\n",
              "        const element = document.querySelector('#df-b79f8a69-890a-48b0-8d73-28427c9d3c60');\n",
              "        const dataTable =\n",
              "          await google.colab.kernel.invokeFunction('convertToInteractive',\n",
              "                                                    [key], {});\n",
              "        if (!dataTable) return;\n",
              "\n",
              "        const docLinkHtml = 'Like what you see? Visit the ' +\n",
              "          '<a target=\"_blank\" href=https://colab.research.google.com/notebooks/data_table.ipynb>data table notebook</a>'\n",
              "          + ' to learn more about interactive tables.';\n",
              "        element.innerHTML = '';\n",
              "        dataTable['output_type'] = 'display_data';\n",
              "        await google.colab.output.renderOutput(dataTable, element);\n",
              "        const docLink = document.createElement('div');\n",
              "        docLink.innerHTML = docLinkHtml;\n",
              "        element.appendChild(docLink);\n",
              "      }\n",
              "    </script>\n",
              "  </div>\n",
              "\n",
              "\n",
              "<div id=\"df-9d99a7a7-7828-43dc-9200-377d8592aa38\">\n",
              "  <button class=\"colab-df-quickchart\" onclick=\"quickchart('df-9d99a7a7-7828-43dc-9200-377d8592aa38')\"\n",
              "            title=\"Suggest charts.\"\n",
              "            style=\"display:none;\">\n",
              "\n",
              "<svg xmlns=\"http://www.w3.org/2000/svg\" height=\"24px\"viewBox=\"0 0 24 24\"\n",
              "     width=\"24px\">\n",
              "    <g>\n",
              "        <path d=\"M19 3H5c-1.1 0-2 .9-2 2v14c0 1.1.9 2 2 2h14c1.1 0 2-.9 2-2V5c0-1.1-.9-2-2-2zM9 17H7v-7h2v7zm4 0h-2V7h2v10zm4 0h-2v-4h2v4z\"/>\n",
              "    </g>\n",
              "</svg>\n",
              "  </button>\n",
              "\n",
              "<style>\n",
              "  .colab-df-quickchart {\n",
              "      --bg-color: #E8F0FE;\n",
              "      --fill-color: #1967D2;\n",
              "      --hover-bg-color: #E2EBFA;\n",
              "      --hover-fill-color: #174EA6;\n",
              "      --disabled-fill-color: #AAA;\n",
              "      --disabled-bg-color: #DDD;\n",
              "  }\n",
              "\n",
              "  [theme=dark] .colab-df-quickchart {\n",
              "      --bg-color: #3B4455;\n",
              "      --fill-color: #D2E3FC;\n",
              "      --hover-bg-color: #434B5C;\n",
              "      --hover-fill-color: #FFFFFF;\n",
              "      --disabled-bg-color: #3B4455;\n",
              "      --disabled-fill-color: #666;\n",
              "  }\n",
              "\n",
              "  .colab-df-quickchart {\n",
              "    background-color: var(--bg-color);\n",
              "    border: none;\n",
              "    border-radius: 50%;\n",
              "    cursor: pointer;\n",
              "    display: none;\n",
              "    fill: var(--fill-color);\n",
              "    height: 32px;\n",
              "    padding: 0;\n",
              "    width: 32px;\n",
              "  }\n",
              "\n",
              "  .colab-df-quickchart:hover {\n",
              "    background-color: var(--hover-bg-color);\n",
              "    box-shadow: 0 1px 2px rgba(60, 64, 67, 0.3), 0 1px 3px 1px rgba(60, 64, 67, 0.15);\n",
              "    fill: var(--button-hover-fill-color);\n",
              "  }\n",
              "\n",
              "  .colab-df-quickchart-complete:disabled,\n",
              "  .colab-df-quickchart-complete:disabled:hover {\n",
              "    background-color: var(--disabled-bg-color);\n",
              "    fill: var(--disabled-fill-color);\n",
              "    box-shadow: none;\n",
              "  }\n",
              "\n",
              "  .colab-df-spinner {\n",
              "    border: 2px solid var(--fill-color);\n",
              "    border-color: transparent;\n",
              "    border-bottom-color: var(--fill-color);\n",
              "    animation:\n",
              "      spin 1s steps(1) infinite;\n",
              "  }\n",
              "\n",
              "  @keyframes spin {\n",
              "    0% {\n",
              "      border-color: transparent;\n",
              "      border-bottom-color: var(--fill-color);\n",
              "      border-left-color: var(--fill-color);\n",
              "    }\n",
              "    20% {\n",
              "      border-color: transparent;\n",
              "      border-left-color: var(--fill-color);\n",
              "      border-top-color: var(--fill-color);\n",
              "    }\n",
              "    30% {\n",
              "      border-color: transparent;\n",
              "      border-left-color: var(--fill-color);\n",
              "      border-top-color: var(--fill-color);\n",
              "      border-right-color: var(--fill-color);\n",
              "    }\n",
              "    40% {\n",
              "      border-color: transparent;\n",
              "      border-right-color: var(--fill-color);\n",
              "      border-top-color: var(--fill-color);\n",
              "    }\n",
              "    60% {\n",
              "      border-color: transparent;\n",
              "      border-right-color: var(--fill-color);\n",
              "    }\n",
              "    80% {\n",
              "      border-color: transparent;\n",
              "      border-right-color: var(--fill-color);\n",
              "      border-bottom-color: var(--fill-color);\n",
              "    }\n",
              "    90% {\n",
              "      border-color: transparent;\n",
              "      border-bottom-color: var(--fill-color);\n",
              "    }\n",
              "  }\n",
              "</style>\n",
              "\n",
              "  <script>\n",
              "    async function quickchart(key) {\n",
              "      const quickchartButtonEl =\n",
              "        document.querySelector('#' + key + ' button');\n",
              "      quickchartButtonEl.disabled = true;  // To prevent multiple clicks.\n",
              "      quickchartButtonEl.classList.add('colab-df-spinner');\n",
              "      try {\n",
              "        const charts = await google.colab.kernel.invokeFunction(\n",
              "            'suggestCharts', [key], {});\n",
              "      } catch (error) {\n",
              "        console.error('Error during call to suggestCharts:', error);\n",
              "      }\n",
              "      quickchartButtonEl.classList.remove('colab-df-spinner');\n",
              "      quickchartButtonEl.classList.add('colab-df-quickchart-complete');\n",
              "    }\n",
              "    (() => {\n",
              "      let quickchartButtonEl =\n",
              "        document.querySelector('#df-9d99a7a7-7828-43dc-9200-377d8592aa38 button');\n",
              "      quickchartButtonEl.style.display =\n",
              "        google.colab.kernel.accessAllowed ? 'block' : 'none';\n",
              "    })();\n",
              "  </script>\n",
              "</div>\n",
              "    </div>\n",
              "  </div>\n"
            ]
          },
          "metadata": {},
          "execution_count": 16
        }
      ]
    },
    {
      "cell_type": "code",
      "source": [
        "import pandas as pd"
      ],
      "metadata": {
        "id": "QWD3iYZPsTDa"
      },
      "execution_count": 14,
      "outputs": []
    },
    {
      "cell_type": "code",
      "source": [
        "df.tail()"
      ],
      "metadata": {
        "colab": {
          "base_uri": "https://localhost:8080/",
          "height": 238
        },
        "id": "oFplUp9ysX_s",
        "outputId": "21c26a63-95ad-43f0-d5a9-b70fddb76669"
      },
      "execution_count": 17,
      "outputs": [
        {
          "output_type": "execute_result",
          "data": {
            "text/plain": [
              "                                   close     high     low     open    volume  \\\n",
              "symbol date                                                                    \n",
              "AAPL   2023-10-12 00:00:00+00:00  180.71  182.340  179.04  180.070  56743119   \n",
              "       2023-10-13 00:00:00+00:00  178.85  181.930  178.14  181.420  51456082   \n",
              "       2023-10-16 00:00:00+00:00  178.72  179.075  176.51  176.750  52516984   \n",
              "       2023-10-17 00:00:00+00:00  177.15  178.420  174.80  176.645  57549350   \n",
              "       2023-10-18 00:00:00+00:00  175.84  177.575  175.11  175.580  54764375   \n",
              "\n",
              "                                  adjClose  adjHigh  adjLow  adjOpen  \\\n",
              "symbol date                                                            \n",
              "AAPL   2023-10-12 00:00:00+00:00    180.71  182.340  179.04  180.070   \n",
              "       2023-10-13 00:00:00+00:00    178.85  181.930  178.14  181.420   \n",
              "       2023-10-16 00:00:00+00:00    178.72  179.075  176.51  176.750   \n",
              "       2023-10-17 00:00:00+00:00    177.15  178.420  174.80  176.645   \n",
              "       2023-10-18 00:00:00+00:00    175.84  177.575  175.11  175.580   \n",
              "\n",
              "                                  adjVolume  divCash  splitFactor  \n",
              "symbol date                                                        \n",
              "AAPL   2023-10-12 00:00:00+00:00   56743119      0.0          1.0  \n",
              "       2023-10-13 00:00:00+00:00   51456082      0.0          1.0  \n",
              "       2023-10-16 00:00:00+00:00   52516984      0.0          1.0  \n",
              "       2023-10-17 00:00:00+00:00   57549350      0.0          1.0  \n",
              "       2023-10-18 00:00:00+00:00   54764375      0.0          1.0  "
            ],
            "text/html": [
              "\n",
              "  <div id=\"df-79959500-a1f4-4a32-aef0-572cadcf4d52\" class=\"colab-df-container\">\n",
              "    <div>\n",
              "<style scoped>\n",
              "    .dataframe tbody tr th:only-of-type {\n",
              "        vertical-align: middle;\n",
              "    }\n",
              "\n",
              "    .dataframe tbody tr th {\n",
              "        vertical-align: top;\n",
              "    }\n",
              "\n",
              "    .dataframe thead th {\n",
              "        text-align: right;\n",
              "    }\n",
              "</style>\n",
              "<table border=\"1\" class=\"dataframe\">\n",
              "  <thead>\n",
              "    <tr style=\"text-align: right;\">\n",
              "      <th></th>\n",
              "      <th></th>\n",
              "      <th>close</th>\n",
              "      <th>high</th>\n",
              "      <th>low</th>\n",
              "      <th>open</th>\n",
              "      <th>volume</th>\n",
              "      <th>adjClose</th>\n",
              "      <th>adjHigh</th>\n",
              "      <th>adjLow</th>\n",
              "      <th>adjOpen</th>\n",
              "      <th>adjVolume</th>\n",
              "      <th>divCash</th>\n",
              "      <th>splitFactor</th>\n",
              "    </tr>\n",
              "    <tr>\n",
              "      <th>symbol</th>\n",
              "      <th>date</th>\n",
              "      <th></th>\n",
              "      <th></th>\n",
              "      <th></th>\n",
              "      <th></th>\n",
              "      <th></th>\n",
              "      <th></th>\n",
              "      <th></th>\n",
              "      <th></th>\n",
              "      <th></th>\n",
              "      <th></th>\n",
              "      <th></th>\n",
              "      <th></th>\n",
              "    </tr>\n",
              "  </thead>\n",
              "  <tbody>\n",
              "    <tr>\n",
              "      <th rowspan=\"5\" valign=\"top\">AAPL</th>\n",
              "      <th>2023-10-12 00:00:00+00:00</th>\n",
              "      <td>180.71</td>\n",
              "      <td>182.340</td>\n",
              "      <td>179.04</td>\n",
              "      <td>180.070</td>\n",
              "      <td>56743119</td>\n",
              "      <td>180.71</td>\n",
              "      <td>182.340</td>\n",
              "      <td>179.04</td>\n",
              "      <td>180.070</td>\n",
              "      <td>56743119</td>\n",
              "      <td>0.0</td>\n",
              "      <td>1.0</td>\n",
              "    </tr>\n",
              "    <tr>\n",
              "      <th>2023-10-13 00:00:00+00:00</th>\n",
              "      <td>178.85</td>\n",
              "      <td>181.930</td>\n",
              "      <td>178.14</td>\n",
              "      <td>181.420</td>\n",
              "      <td>51456082</td>\n",
              "      <td>178.85</td>\n",
              "      <td>181.930</td>\n",
              "      <td>178.14</td>\n",
              "      <td>181.420</td>\n",
              "      <td>51456082</td>\n",
              "      <td>0.0</td>\n",
              "      <td>1.0</td>\n",
              "    </tr>\n",
              "    <tr>\n",
              "      <th>2023-10-16 00:00:00+00:00</th>\n",
              "      <td>178.72</td>\n",
              "      <td>179.075</td>\n",
              "      <td>176.51</td>\n",
              "      <td>176.750</td>\n",
              "      <td>52516984</td>\n",
              "      <td>178.72</td>\n",
              "      <td>179.075</td>\n",
              "      <td>176.51</td>\n",
              "      <td>176.750</td>\n",
              "      <td>52516984</td>\n",
              "      <td>0.0</td>\n",
              "      <td>1.0</td>\n",
              "    </tr>\n",
              "    <tr>\n",
              "      <th>2023-10-17 00:00:00+00:00</th>\n",
              "      <td>177.15</td>\n",
              "      <td>178.420</td>\n",
              "      <td>174.80</td>\n",
              "      <td>176.645</td>\n",
              "      <td>57549350</td>\n",
              "      <td>177.15</td>\n",
              "      <td>178.420</td>\n",
              "      <td>174.80</td>\n",
              "      <td>176.645</td>\n",
              "      <td>57549350</td>\n",
              "      <td>0.0</td>\n",
              "      <td>1.0</td>\n",
              "    </tr>\n",
              "    <tr>\n",
              "      <th>2023-10-18 00:00:00+00:00</th>\n",
              "      <td>175.84</td>\n",
              "      <td>177.575</td>\n",
              "      <td>175.11</td>\n",
              "      <td>175.580</td>\n",
              "      <td>54764375</td>\n",
              "      <td>175.84</td>\n",
              "      <td>177.575</td>\n",
              "      <td>175.11</td>\n",
              "      <td>175.580</td>\n",
              "      <td>54764375</td>\n",
              "      <td>0.0</td>\n",
              "      <td>1.0</td>\n",
              "    </tr>\n",
              "  </tbody>\n",
              "</table>\n",
              "</div>\n",
              "    <div class=\"colab-df-buttons\">\n",
              "\n",
              "  <div class=\"colab-df-container\">\n",
              "    <button class=\"colab-df-convert\" onclick=\"convertToInteractive('df-79959500-a1f4-4a32-aef0-572cadcf4d52')\"\n",
              "            title=\"Convert this dataframe to an interactive table.\"\n",
              "            style=\"display:none;\">\n",
              "\n",
              "  <svg xmlns=\"http://www.w3.org/2000/svg\" height=\"24px\" viewBox=\"0 -960 960 960\">\n",
              "    <path d=\"M120-120v-720h720v720H120Zm60-500h600v-160H180v160Zm220 220h160v-160H400v160Zm0 220h160v-160H400v160ZM180-400h160v-160H180v160Zm440 0h160v-160H620v160ZM180-180h160v-160H180v160Zm440 0h160v-160H620v160Z\"/>\n",
              "  </svg>\n",
              "    </button>\n",
              "\n",
              "  <style>\n",
              "    .colab-df-container {\n",
              "      display:flex;\n",
              "      gap: 12px;\n",
              "    }\n",
              "\n",
              "    .colab-df-convert {\n",
              "      background-color: #E8F0FE;\n",
              "      border: none;\n",
              "      border-radius: 50%;\n",
              "      cursor: pointer;\n",
              "      display: none;\n",
              "      fill: #1967D2;\n",
              "      height: 32px;\n",
              "      padding: 0 0 0 0;\n",
              "      width: 32px;\n",
              "    }\n",
              "\n",
              "    .colab-df-convert:hover {\n",
              "      background-color: #E2EBFA;\n",
              "      box-shadow: 0px 1px 2px rgba(60, 64, 67, 0.3), 0px 1px 3px 1px rgba(60, 64, 67, 0.15);\n",
              "      fill: #174EA6;\n",
              "    }\n",
              "\n",
              "    .colab-df-buttons div {\n",
              "      margin-bottom: 4px;\n",
              "    }\n",
              "\n",
              "    [theme=dark] .colab-df-convert {\n",
              "      background-color: #3B4455;\n",
              "      fill: #D2E3FC;\n",
              "    }\n",
              "\n",
              "    [theme=dark] .colab-df-convert:hover {\n",
              "      background-color: #434B5C;\n",
              "      box-shadow: 0px 1px 3px 1px rgba(0, 0, 0, 0.15);\n",
              "      filter: drop-shadow(0px 1px 2px rgba(0, 0, 0, 0.3));\n",
              "      fill: #FFFFFF;\n",
              "    }\n",
              "  </style>\n",
              "\n",
              "    <script>\n",
              "      const buttonEl =\n",
              "        document.querySelector('#df-79959500-a1f4-4a32-aef0-572cadcf4d52 button.colab-df-convert');\n",
              "      buttonEl.style.display =\n",
              "        google.colab.kernel.accessAllowed ? 'block' : 'none';\n",
              "\n",
              "      async function convertToInteractive(key) {\n",
              "        const element = document.querySelector('#df-79959500-a1f4-4a32-aef0-572cadcf4d52');\n",
              "        const dataTable =\n",
              "          await google.colab.kernel.invokeFunction('convertToInteractive',\n",
              "                                                    [key], {});\n",
              "        if (!dataTable) return;\n",
              "\n",
              "        const docLinkHtml = 'Like what you see? Visit the ' +\n",
              "          '<a target=\"_blank\" href=https://colab.research.google.com/notebooks/data_table.ipynb>data table notebook</a>'\n",
              "          + ' to learn more about interactive tables.';\n",
              "        element.innerHTML = '';\n",
              "        dataTable['output_type'] = 'display_data';\n",
              "        await google.colab.output.renderOutput(dataTable, element);\n",
              "        const docLink = document.createElement('div');\n",
              "        docLink.innerHTML = docLinkHtml;\n",
              "        element.appendChild(docLink);\n",
              "      }\n",
              "    </script>\n",
              "  </div>\n",
              "\n",
              "\n",
              "<div id=\"df-63a92ebf-d479-4086-8d7d-410570ded67a\">\n",
              "  <button class=\"colab-df-quickchart\" onclick=\"quickchart('df-63a92ebf-d479-4086-8d7d-410570ded67a')\"\n",
              "            title=\"Suggest charts.\"\n",
              "            style=\"display:none;\">\n",
              "\n",
              "<svg xmlns=\"http://www.w3.org/2000/svg\" height=\"24px\"viewBox=\"0 0 24 24\"\n",
              "     width=\"24px\">\n",
              "    <g>\n",
              "        <path d=\"M19 3H5c-1.1 0-2 .9-2 2v14c0 1.1.9 2 2 2h14c1.1 0 2-.9 2-2V5c0-1.1-.9-2-2-2zM9 17H7v-7h2v7zm4 0h-2V7h2v10zm4 0h-2v-4h2v4z\"/>\n",
              "    </g>\n",
              "</svg>\n",
              "  </button>\n",
              "\n",
              "<style>\n",
              "  .colab-df-quickchart {\n",
              "      --bg-color: #E8F0FE;\n",
              "      --fill-color: #1967D2;\n",
              "      --hover-bg-color: #E2EBFA;\n",
              "      --hover-fill-color: #174EA6;\n",
              "      --disabled-fill-color: #AAA;\n",
              "      --disabled-bg-color: #DDD;\n",
              "  }\n",
              "\n",
              "  [theme=dark] .colab-df-quickchart {\n",
              "      --bg-color: #3B4455;\n",
              "      --fill-color: #D2E3FC;\n",
              "      --hover-bg-color: #434B5C;\n",
              "      --hover-fill-color: #FFFFFF;\n",
              "      --disabled-bg-color: #3B4455;\n",
              "      --disabled-fill-color: #666;\n",
              "  }\n",
              "\n",
              "  .colab-df-quickchart {\n",
              "    background-color: var(--bg-color);\n",
              "    border: none;\n",
              "    border-radius: 50%;\n",
              "    cursor: pointer;\n",
              "    display: none;\n",
              "    fill: var(--fill-color);\n",
              "    height: 32px;\n",
              "    padding: 0;\n",
              "    width: 32px;\n",
              "  }\n",
              "\n",
              "  .colab-df-quickchart:hover {\n",
              "    background-color: var(--hover-bg-color);\n",
              "    box-shadow: 0 1px 2px rgba(60, 64, 67, 0.3), 0 1px 3px 1px rgba(60, 64, 67, 0.15);\n",
              "    fill: var(--button-hover-fill-color);\n",
              "  }\n",
              "\n",
              "  .colab-df-quickchart-complete:disabled,\n",
              "  .colab-df-quickchart-complete:disabled:hover {\n",
              "    background-color: var(--disabled-bg-color);\n",
              "    fill: var(--disabled-fill-color);\n",
              "    box-shadow: none;\n",
              "  }\n",
              "\n",
              "  .colab-df-spinner {\n",
              "    border: 2px solid var(--fill-color);\n",
              "    border-color: transparent;\n",
              "    border-bottom-color: var(--fill-color);\n",
              "    animation:\n",
              "      spin 1s steps(1) infinite;\n",
              "  }\n",
              "\n",
              "  @keyframes spin {\n",
              "    0% {\n",
              "      border-color: transparent;\n",
              "      border-bottom-color: var(--fill-color);\n",
              "      border-left-color: var(--fill-color);\n",
              "    }\n",
              "    20% {\n",
              "      border-color: transparent;\n",
              "      border-left-color: var(--fill-color);\n",
              "      border-top-color: var(--fill-color);\n",
              "    }\n",
              "    30% {\n",
              "      border-color: transparent;\n",
              "      border-left-color: var(--fill-color);\n",
              "      border-top-color: var(--fill-color);\n",
              "      border-right-color: var(--fill-color);\n",
              "    }\n",
              "    40% {\n",
              "      border-color: transparent;\n",
              "      border-right-color: var(--fill-color);\n",
              "      border-top-color: var(--fill-color);\n",
              "    }\n",
              "    60% {\n",
              "      border-color: transparent;\n",
              "      border-right-color: var(--fill-color);\n",
              "    }\n",
              "    80% {\n",
              "      border-color: transparent;\n",
              "      border-right-color: var(--fill-color);\n",
              "      border-bottom-color: var(--fill-color);\n",
              "    }\n",
              "    90% {\n",
              "      border-color: transparent;\n",
              "      border-bottom-color: var(--fill-color);\n",
              "    }\n",
              "  }\n",
              "</style>\n",
              "\n",
              "  <script>\n",
              "    async function quickchart(key) {\n",
              "      const quickchartButtonEl =\n",
              "        document.querySelector('#' + key + ' button');\n",
              "      quickchartButtonEl.disabled = true;  // To prevent multiple clicks.\n",
              "      quickchartButtonEl.classList.add('colab-df-spinner');\n",
              "      try {\n",
              "        const charts = await google.colab.kernel.invokeFunction(\n",
              "            'suggestCharts', [key], {});\n",
              "      } catch (error) {\n",
              "        console.error('Error during call to suggestCharts:', error);\n",
              "      }\n",
              "      quickchartButtonEl.classList.remove('colab-df-spinner');\n",
              "      quickchartButtonEl.classList.add('colab-df-quickchart-complete');\n",
              "    }\n",
              "    (() => {\n",
              "      let quickchartButtonEl =\n",
              "        document.querySelector('#df-63a92ebf-d479-4086-8d7d-410570ded67a button');\n",
              "      quickchartButtonEl.style.display =\n",
              "        google.colab.kernel.accessAllowed ? 'block' : 'none';\n",
              "    })();\n",
              "  </script>\n",
              "</div>\n",
              "    </div>\n",
              "  </div>\n"
            ]
          },
          "metadata": {},
          "execution_count": 17
        }
      ]
    },
    {
      "cell_type": "code",
      "source": [
        "#taking close column and for that we are performing stock prediction\n",
        "df1 = df.reset_index()['close']"
      ],
      "metadata": {
        "id": "wEN37M_ZssOP"
      },
      "execution_count": 21,
      "outputs": []
    },
    {
      "cell_type": "code",
      "source": [
        "df1.shape"
      ],
      "metadata": {
        "colab": {
          "base_uri": "https://localhost:8080/"
        },
        "id": "mik4Qzlns9nR",
        "outputId": "ce698a7c-4221-4293-c8cc-5f2a1edcad5b"
      },
      "execution_count": 22,
      "outputs": [
        {
          "output_type": "execute_result",
          "data": {
            "text/plain": [
              "(1256,)"
            ]
          },
          "metadata": {},
          "execution_count": 22
        }
      ]
    },
    {
      "cell_type": "code",
      "source": [
        "#plotting this close data frame\n",
        "import matplotlib.pyplot as plt\n",
        "plt.plot(df1)"
      ],
      "metadata": {
        "colab": {
          "base_uri": "https://localhost:8080/",
          "height": 447
        },
        "id": "kiyrQCnxtAwF",
        "outputId": "7577e802-acb5-4dcd-c143-038c044da9e3"
      },
      "execution_count": 23,
      "outputs": [
        {
          "output_type": "execute_result",
          "data": {
            "text/plain": [
              "[<matplotlib.lines.Line2D at 0x7cb9c8a4d990>]"
            ]
          },
          "metadata": {},
          "execution_count": 23
        },
        {
          "output_type": "display_data",
          "data": {
            "text/plain": [
              "<Figure size 640x480 with 1 Axes>"
            ],
            "image/png": "[encoded data removed]"
          },
          "metadata": {}
        }
      ]
    },
    {
      "cell_type": "code",
      "source": [
        "#LSTM being sensitive to the scale of data hence applying MinMax scalar\n",
        "#transforming values between 0 to 1\n"
      ],
      "metadata": {
        "id": "X5flY8mwtcHx"
      },
      "execution_count": 24,
      "outputs": []
    },
    {
      "cell_type": "code",
      "source": [
        "import numpy as np"
      ],
      "metadata": {
        "id": "95NjknAMt6n5"
      },
      "execution_count": 25,
      "outputs": []
    },
    {
      "cell_type": "code",
      "source": [
        "from sklearn.preprocessing import MinMaxScaler\n",
        "scaler = MinMaxScaler(feature_range=(0,1))\n",
        "df1 = scaler.fit_transform(np.array(df1).reshape(-1,1))"
      ],
      "metadata": {
        "id": "m-_j-M57t8l2"
      },
      "execution_count": 27,
      "outputs": []
    },
    {
      "cell_type": "code",
      "source": [
        "#df1 will be converted into an array with values 0 to 1\n",
        "df1"
      ],
      "metadata": {
        "colab": {
          "base_uri": "https://localhost:8080/"
        },
        "id": "f7amqUrauRxK",
        "outputId": "9b150725-ce32-4241-de7e-b26b17e3f077"
      },
      "execution_count": 28,
      "outputs": [
        {
          "output_type": "execute_result",
          "data": {
            "text/plain": [
              "array([[0.28505949],\n",
              "       [0.29026925],\n",
              "       [0.27113338],\n",
              "       ...,\n",
              "       [0.18003757],\n",
              "       [0.1761052 ],\n",
              "       [0.17282405]])"
            ]
          },
          "metadata": {},
          "execution_count": 28
        }
      ]
    },
    {
      "cell_type": "code",
      "source": [
        "#splitting dataset into train and test set\n",
        "training_size=int(len(df1)*0.65)\n",
        "test_size=len(df1)-training_size\n",
        "train_data,test_data=df1[0:training_size,:],df1[training_size:len(df1),:1]"
      ],
      "metadata": {
        "id": "otazgh2wuy_z"
      },
      "execution_count": 29,
      "outputs": []
    },
    {
      "cell_type": "code",
      "source": [
        "training_size,test_size"
      ],
      "metadata": {
        "colab": {
          "base_uri": "https://localhost:8080/"
        },
        "id": "w79EuIn4y55w",
        "outputId": "77cdef83-098e-4195-8a54-e8bf8b3f02a8"
      },
      "execution_count": 30,
      "outputs": [
        {
          "output_type": "execute_result",
          "data": {
            "text/plain": [
              "(816, 440)"
            ]
          },
          "metadata": {},
          "execution_count": 30
        }
      ]
    },
    {
      "cell_type": "code",
      "source": [
        "import numpy\n",
        "#converting an array of values into a dataset matrix\n",
        "def create_dataset(dataset,time_step=1):\n",
        "  dataX,dataY =[],[]\n",
        "  for i in range(len(dataset)-time_step-1):\n",
        "    a = dataset[i:(i+time_step),0]\n",
        "    dataX.append(a)\n",
        "    dataY.append(dataset[i+time_step,0])\n",
        "  return numpy.array(dataX),numpy.array(dataY)"
      ],
      "metadata": {
        "id": "XatuHCapy8dF"
      },
      "execution_count": 31,
      "outputs": []
    },
    {
      "cell_type": "code",
      "source": [
        "#reshape into X=t,t+1,t+2... and Y=t+4\n",
        "time_step=100\n",
        "x_train,y_train=create_dataset(train_data,time_step)\n",
        "x_test,y_test=create_dataset(test_data,time_step)"
      ],
      "metadata": {
        "id": "mXRsv_xd0fw-"
      },
      "execution_count": 32,
      "outputs": []
    },
    {
      "cell_type": "code",
      "source": [
        "print(x_train)"
      ],
      "metadata": {
        "colab": {
          "base_uri": "https://localhost:8080/"
        },
        "id": "YTr8-C191Cvf",
        "outputId": "eec09bb8-0a6a-4319-8b92-f55d643b261f"
      },
      "execution_count": 33,
      "outputs": [
        {
          "output_type": "stream",
          "name": "stdout",
          "text": [
            "[[0.28505949 0.29026925 0.27113338 ... 0.1925861  0.19857232 0.20333125]\n",
            " [0.29026925 0.27113338 0.28293049 ... 0.19857232 0.20333125 0.19959925]\n",
            " [0.27113338 0.28293049 0.27416406 ... 0.20333125 0.19959925 0.2036819 ]\n",
            " ...\n",
            " [0.10356919 0.10737633 0.10715091 ... 0.16363181 0.1636819  0.17092048]\n",
            " [0.10737633 0.10715091 0.10399499 ... 0.1636819  0.17092048 0.17204759]\n",
            " [0.10715091 0.10399499 0.10194114 ... 0.17092048 0.17204759 0.1636819 ]]\n"
          ]
        }
      ]
    },
    {
      "cell_type": "code",
      "source": [
        "print(x_train.shape)"
      ],
      "metadata": {
        "colab": {
          "base_uri": "https://localhost:8080/"
        },
        "id": "cCdScVEe1EJD",
        "outputId": "69c0c736-19a9-440d-d995-82cf80aa79e2"
      },
      "execution_count": 34,
      "outputs": [
        {
          "output_type": "stream",
          "name": "stdout",
          "text": [
            "(715, 100)\n"
          ]
        }
      ]
    },
    {
      "cell_type": "code",
      "source": [
        "#reshaping input to be [samples,time steps, features] as per the LSTM requirement\n",
        "x_train = x_train.reshape(x_train.shape[0],x_train.shape[1],1)\n",
        "x_test = x_test.reshape(x_test.shape[0], x_test.shape[1], 1)"
      ],
      "metadata": {
        "id": "v8eC162U1LTX"
      },
      "execution_count": 35,
      "outputs": []
    },
    {
      "cell_type": "code",
      "source": [
        "#creating the stacked LSTM model\n",
        "from tensorflow.keras.models import Sequential\n",
        "from tensorflow.keras.layers import Dense\n",
        "from tensorflow.keras.layers import LSTM"
      ],
      "metadata": {
        "id": "yxHlgWVr1pAU"
      },
      "execution_count": 37,
      "outputs": []
    },
    {
      "cell_type": "code",
      "source": [
        "model = Sequential()\n",
        "model.add(LSTM(50,return_sequences=True,input_shape=(100,1)))\n",
        "model.add(LSTM(50,return_sequences=True))\n",
        "model.add(LSTM(50))\n",
        "model.add(Dense(1))\n",
        "model.compile(loss='mean_squared_error',optimizer='adam')"
      ],
      "metadata": {
        "id": "tFBnxpDL2SQt"
      },
      "execution_count": 39,
      "outputs": []
    },
    {
      "cell_type": "code",
      "source": [
        "model.summary()"
      ],
      "metadata": {
        "colab": {
          "base_uri": "https://localhost:8080/"
        },
        "id": "DmMdaqIL23Ob",
        "outputId": "d43bf49d-0bcc-49f3-d8ca-5babc1da2e3b"
      },
      "execution_count": 40,
      "outputs": [
        {
          "output_type": "stream",
          "name": "stdout",
          "text": [
            "Model: \"sequential_1\"\n",
            "_________________________________________________________________\n",
            " Layer (type)                Output Shape              Param #   \n",
            "=================================================================\n",
            " lstm (LSTM)                 (None, 100, 50)           10400     \n",
            "                                                                 \n",
            " lstm_1 (LSTM)               (None, 100, 50)           20200     \n",
            "                                                                 \n",
            " lstm_2 (LSTM)               (None, 50)                20200     \n",
            "                                                                 \n",
            " dense (Dense)               (None, 1)                 51        \n",
            "                                                                 \n",
            "=================================================================\n",
            "Total params: 50851 (198.64 KB)\n",
            "Trainable params: 50851 (198.64 KB)\n",
            "Non-trainable params: 0 (0.00 Byte)\n",
            "_________________________________________________________________\n"
          ]
        }
      ]
    },
    {
      "cell_type": "code",
      "source": [
        "model.fit(x_train,y_train,validation_data=(x_test,y_test),epochs=100,batch_size=64,verbose=1)"
      ],
      "metadata": {
        "colab": {
          "base_uri": "https://localhost:8080/"
        },
        "id": "lEs8PatW294D",
        "outputId": "910b4fc3-f350-4be9-a7ac-8ab011ea1717"
      },
      "execution_count": 41,
      "outputs": [
        {
          "output_type": "stream",
          "name": "stdout",
          "text": [
            "Epoch 1/100\n",
            "12/12 [==============================] - 12s 453ms/step - loss: 0.0415 - val_loss: 0.0015\n",
            "Epoch 2/100\n",
            "12/12 [==============================] - 2s 198ms/step - loss: 0.0129 - val_loss: 8.8916e-04\n",
            "Epoch 3/100\n",
            "12/12 [==============================] - 2s 196ms/step - loss: 0.0112 - val_loss: 0.0013\n",
            "Epoch 4/100\n",
            "12/12 [==============================] - 2s 197ms/step - loss: 0.0089 - val_loss: 3.3469e-04\n",
            "Epoch 5/100\n",
            "12/12 [==============================] - 2s 197ms/step - loss: 0.0080 - val_loss: 3.2088e-04\n",
            "Epoch 6/100\n",
            "12/12 [==============================] - 5s 399ms/step - loss: 0.0081 - val_loss: 0.0010\n",
            "Epoch 7/100\n",
            "12/12 [==============================] - 3s 209ms/step - loss: 0.0067 - val_loss: 8.1503e-04\n",
            "Epoch 8/100\n",
            "12/12 [==============================] - 2s 201ms/step - loss: 0.0064 - val_loss: 0.0011\n",
            "Epoch 9/100\n",
            "12/12 [==============================] - 2s 198ms/step - loss: 0.0055 - val_loss: 2.6224e-04\n",
            "Epoch 10/100\n",
            "12/12 [==============================] - 3s 275ms/step - loss: 0.0049 - val_loss: 3.6100e-04\n",
            "Epoch 11/100\n",
            "12/12 [==============================] - 3s 219ms/step - loss: 0.0070 - val_loss: 3.2794e-04\n",
            "Epoch 12/100\n",
            "12/12 [==============================] - 2s 199ms/step - loss: 0.0046 - val_loss: 5.1663e-04\n",
            "Epoch 13/100\n",
            "12/12 [==============================] - 2s 196ms/step - loss: 0.0042 - val_loss: 3.1488e-04\n",
            "Epoch 14/100\n",
            "12/12 [==============================] - 2s 198ms/step - loss: 0.0041 - val_loss: 5.4520e-04\n",
            "Epoch 15/100\n",
            "12/12 [==============================] - 3s 268ms/step - loss: 0.0038 - val_loss: 3.0688e-04\n",
            "Epoch 16/100\n",
            "12/12 [==============================] - 3s 226ms/step - loss: 0.0033 - val_loss: 2.6495e-04\n",
            "Epoch 17/100\n",
            "12/12 [==============================] - 2s 201ms/step - loss: 0.0027 - val_loss: 3.4790e-04\n",
            "Epoch 18/100\n",
            "12/12 [==============================] - 2s 199ms/step - loss: 0.0027 - val_loss: 2.4309e-04\n",
            "Epoch 19/100\n",
            "12/12 [==============================] - 2s 200ms/step - loss: 0.0024 - val_loss: 2.1838e-04\n",
            "Epoch 20/100\n",
            "12/12 [==============================] - 3s 291ms/step - loss: 0.0021 - val_loss: 2.3690e-04\n",
            "Epoch 21/100\n",
            "12/12 [==============================] - 3s 205ms/step - loss: 0.0026 - val_loss: 2.5960e-04\n",
            "Epoch 22/100\n",
            "12/12 [==============================] - 2s 201ms/step - loss: 0.0040 - val_loss: 2.7650e-04\n",
            "Epoch 23/100\n",
            "12/12 [==============================] - 2s 202ms/step - loss: 0.0036 - val_loss: 2.8637e-04\n",
            "Epoch 24/100\n",
            "12/12 [==============================] - 2s 196ms/step - loss: 0.0038 - val_loss: 8.3404e-04\n",
            "Epoch 25/100\n",
            "12/12 [==============================] - 3s 290ms/step - loss: 0.0032 - val_loss: 5.3964e-04\n",
            "Epoch 26/100\n",
            "12/12 [==============================] - 2s 199ms/step - loss: 0.0027 - val_loss: 2.6718e-04\n",
            "Epoch 27/100\n",
            "12/12 [==============================] - 2s 199ms/step - loss: 0.0021 - val_loss: 2.4682e-04\n",
            "Epoch 28/100\n",
            "12/12 [==============================] - 2s 197ms/step - loss: 0.0022 - val_loss: 2.8743e-04\n",
            "Epoch 29/100\n",
            "12/12 [==============================] - 2s 195ms/step - loss: 0.0025 - val_loss: 2.2542e-04\n",
            "Epoch 30/100\n",
            "12/12 [==============================] - 3s 278ms/step - loss: 0.0025 - val_loss: 3.5111e-04\n",
            "Epoch 31/100\n",
            "12/12 [==============================] - 3s 207ms/step - loss: 0.0022 - val_loss: 2.2782e-04\n",
            "Epoch 32/100\n",
            "12/12 [==============================] - 2s 198ms/step - loss: 0.0025 - val_loss: 2.8632e-04\n",
            "Epoch 33/100\n",
            "12/12 [==============================] - 2s 199ms/step - loss: 0.0021 - val_loss: 2.3437e-04\n",
            "Epoch 34/100\n",
            "12/12 [==============================] - 2s 197ms/step - loss: 0.0023 - val_loss: 2.8315e-04\n",
            "Epoch 35/100\n",
            "12/12 [==============================] - 3s 302ms/step - loss: 0.0025 - val_loss: 3.5668e-04\n",
            "Epoch 36/100\n",
            "12/12 [==============================] - 2s 198ms/step - loss: 0.0024 - val_loss: 2.8666e-04\n",
            "Epoch 37/100\n",
            "12/12 [==============================] - 2s 202ms/step - loss: 0.0023 - val_loss: 2.6145e-04\n",
            "Epoch 38/100\n",
            "12/12 [==============================] - 2s 199ms/step - loss: 0.0020 - val_loss: 4.7169e-04\n",
            "Epoch 39/100\n",
            "12/12 [==============================] - 2s 199ms/step - loss: 0.0018 - val_loss: 3.4307e-04\n",
            "Epoch 40/100\n",
            "12/12 [==============================] - 4s 310ms/step - loss: 0.0022 - val_loss: 3.8569e-04\n",
            "Epoch 41/100\n",
            "12/12 [==============================] - 2s 201ms/step - loss: 0.0018 - val_loss: 3.0791e-04\n",
            "Epoch 42/100\n",
            "12/12 [==============================] - 2s 198ms/step - loss: 0.0018 - val_loss: 2.3082e-04\n",
            "Epoch 43/100\n",
            "12/12 [==============================] - 2s 198ms/step - loss: 0.0015 - val_loss: 2.1985e-04\n",
            "Epoch 44/100\n",
            "12/12 [==============================] - 2s 196ms/step - loss: 0.0014 - val_loss: 2.2465e-04\n",
            "Epoch 45/100\n",
            "12/12 [==============================] - 4s 310ms/step - loss: 0.0014 - val_loss: 2.2133e-04\n",
            "Epoch 46/100\n",
            "12/12 [==============================] - 3s 228ms/step - loss: 0.0015 - val_loss: 2.7268e-04\n",
            "Epoch 47/100\n",
            "12/12 [==============================] - 2s 201ms/step - loss: 0.0022 - val_loss: 2.6474e-04\n",
            "Epoch 48/100\n",
            "12/12 [==============================] - 2s 196ms/step - loss: 0.0018 - val_loss: 2.2688e-04\n",
            "Epoch 49/100\n",
            "12/12 [==============================] - 2s 197ms/step - loss: 0.0014 - val_loss: 2.8467e-04\n",
            "Epoch 50/100\n",
            "12/12 [==============================] - 4s 309ms/step - loss: 0.0012 - val_loss: 2.3372e-04\n",
            "Epoch 51/100\n",
            "12/12 [==============================] - 2s 199ms/step - loss: 0.0015 - val_loss: 3.0997e-04\n",
            "Epoch 52/100\n",
            "12/12 [==============================] - 2s 199ms/step - loss: 0.0019 - val_loss: 2.2581e-04\n",
            "Epoch 53/100\n",
            "12/12 [==============================] - 2s 199ms/step - loss: 0.0014 - val_loss: 2.3001e-04\n",
            "Epoch 54/100\n",
            "12/12 [==============================] - 2s 198ms/step - loss: 0.0014 - val_loss: 2.4287e-04\n",
            "Epoch 55/100\n",
            "12/12 [==============================] - 4s 302ms/step - loss: 0.0017 - val_loss: 2.3885e-04\n",
            "Epoch 56/100\n",
            "12/12 [==============================] - 2s 201ms/step - loss: 0.0017 - val_loss: 7.9034e-04\n",
            "Epoch 57/100\n",
            "12/12 [==============================] - 2s 203ms/step - loss: 0.0018 - val_loss: 2.6567e-04\n",
            "Epoch 58/100\n",
            "12/12 [==============================] - 2s 198ms/step - loss: 0.0021 - val_loss: 2.5173e-04\n",
            "Epoch 59/100\n",
            "12/12 [==============================] - 3s 230ms/step - loss: 0.0013 - val_loss: 2.4312e-04\n",
            "Epoch 60/100\n",
            "12/12 [==============================] - 3s 273ms/step - loss: 0.0016 - val_loss: 2.3007e-04\n",
            "Epoch 61/100\n",
            "12/12 [==============================] - 2s 198ms/step - loss: 0.0018 - val_loss: 2.7669e-04\n",
            "Epoch 62/100\n",
            "12/12 [==============================] - 2s 200ms/step - loss: 0.0030 - val_loss: 4.0797e-04\n",
            "Epoch 63/100\n",
            "12/12 [==============================] - 2s 199ms/step - loss: 0.0032 - val_loss: 8.4449e-04\n",
            "Epoch 64/100\n",
            "12/12 [==============================] - 3s 239ms/step - loss: 0.0025 - val_loss: 4.3150e-04\n",
            "Epoch 65/100\n",
            "12/12 [==============================] - 3s 263ms/step - loss: 0.0021 - val_loss: 2.5022e-04\n",
            "Epoch 66/100\n",
            "12/12 [==============================] - 2s 200ms/step - loss: 0.0017 - val_loss: 3.0668e-04\n",
            "Epoch 67/100\n",
            "12/12 [==============================] - 2s 198ms/step - loss: 0.0017 - val_loss: 3.0969e-04\n",
            "Epoch 68/100\n",
            "12/12 [==============================] - 2s 207ms/step - loss: 0.0026 - val_loss: 3.8916e-04\n",
            "Epoch 69/100\n",
            "12/12 [==============================] - 3s 258ms/step - loss: 0.0016 - val_loss: 2.5154e-04\n",
            "Epoch 70/100\n",
            "12/12 [==============================] - 3s 241ms/step - loss: 0.0016 - val_loss: 2.1365e-04\n",
            "Epoch 71/100\n",
            "12/12 [==============================] - 2s 196ms/step - loss: 0.0015 - val_loss: 2.1940e-04\n",
            "Epoch 72/100\n",
            "12/12 [==============================] - 2s 197ms/step - loss: 0.0015 - val_loss: 2.1295e-04\n",
            "Epoch 73/100\n",
            "12/12 [==============================] - 2s 203ms/step - loss: 0.0011 - val_loss: 2.1896e-04\n",
            "Epoch 74/100\n",
            "12/12 [==============================] - 3s 254ms/step - loss: 0.0014 - val_loss: 3.2055e-04\n",
            "Epoch 75/100\n",
            "12/12 [==============================] - 3s 238ms/step - loss: 0.0018 - val_loss: 2.5187e-04\n",
            "Epoch 76/100\n",
            "12/12 [==============================] - 2s 199ms/step - loss: 0.0016 - val_loss: 2.3155e-04\n",
            "Epoch 77/100\n",
            "12/12 [==============================] - 2s 200ms/step - loss: 0.0019 - val_loss: 4.6085e-04\n",
            "Epoch 78/100\n",
            "12/12 [==============================] - 2s 200ms/step - loss: 0.0034 - val_loss: 2.4249e-04\n",
            "Epoch 79/100\n",
            "12/12 [==============================] - 3s 276ms/step - loss: 0.0028 - val_loss: 3.5493e-04\n",
            "Epoch 80/100\n",
            "12/12 [==============================] - 3s 228ms/step - loss: 0.0018 - val_loss: 2.8993e-04\n",
            "Epoch 81/100\n",
            "12/12 [==============================] - 2s 202ms/step - loss: 0.0040 - val_loss: 2.3437e-04\n",
            "Epoch 82/100\n",
            "12/12 [==============================] - 2s 199ms/step - loss: 0.0027 - val_loss: 6.9000e-04\n",
            "Epoch 83/100\n",
            "12/12 [==============================] - 2s 197ms/step - loss: 0.0024 - val_loss: 4.3246e-04\n",
            "Epoch 84/100\n",
            "12/12 [==============================] - 3s 272ms/step - loss: 0.0020 - val_loss: 4.7481e-04\n",
            "Epoch 85/100\n",
            "12/12 [==============================] - 3s 219ms/step - loss: 0.0016 - val_loss: 2.1822e-04\n",
            "Epoch 86/100\n",
            "12/12 [==============================] - 2s 199ms/step - loss: 0.0013 - val_loss: 2.3453e-04\n",
            "Epoch 87/100\n",
            "12/12 [==============================] - 2s 201ms/step - loss: 0.0020 - val_loss: 2.0304e-04\n",
            "Epoch 88/100\n",
            "12/12 [==============================] - 2s 198ms/step - loss: 0.0019 - val_loss: 3.5818e-04\n",
            "Epoch 89/100\n",
            "12/12 [==============================] - 3s 296ms/step - loss: 0.0014 - val_loss: 2.1051e-04\n",
            "Epoch 90/100\n",
            "12/12 [==============================] - 3s 232ms/step - loss: 0.0011 - val_loss: 2.3553e-04\n",
            "Epoch 91/100\n",
            "12/12 [==============================] - 2s 202ms/step - loss: 0.0011 - val_loss: 2.1442e-04\n",
            "Epoch 92/100\n",
            "12/12 [==============================] - 2s 197ms/step - loss: 9.1529e-04 - val_loss: 2.0466e-04\n",
            "Epoch 93/100\n",
            "12/12 [==============================] - 2s 201ms/step - loss: 0.0011 - val_loss: 2.3405e-04\n",
            "Epoch 94/100\n",
            "12/12 [==============================] - 4s 306ms/step - loss: 9.1239e-04 - val_loss: 2.1520e-04\n",
            "Epoch 95/100\n",
            "12/12 [==============================] - 2s 196ms/step - loss: 9.1259e-04 - val_loss: 2.4096e-04\n",
            "Epoch 96/100\n",
            "12/12 [==============================] - 2s 199ms/step - loss: 7.7334e-04 - val_loss: 2.0216e-04\n",
            "Epoch 97/100\n",
            "12/12 [==============================] - 2s 197ms/step - loss: 7.3377e-04 - val_loss: 2.0881e-04\n",
            "Epoch 98/100\n",
            "12/12 [==============================] - 3s 239ms/step - loss: 0.0018 - val_loss: 3.3376e-04\n",
            "Epoch 99/100\n",
            "12/12 [==============================] - 5s 395ms/step - loss: 0.0015 - val_loss: 3.4867e-04\n",
            "Epoch 100/100\n",
            "12/12 [==============================] - 3s 286ms/step - loss: 0.0011 - val_loss: 2.0774e-04\n"
          ]
        },
        {
          "output_type": "execute_result",
          "data": {
            "text/plain": [
              "<keras.src.callbacks.History at 0x7cb969f8dd20>"
            ]
          },
          "metadata": {},
          "execution_count": 41
        }
      ]
    },
    {
      "cell_type": "code",
      "source": [
        "import tensorflow as tf"
      ],
      "metadata": {
        "id": "wYq0toBQ3OH5"
      },
      "execution_count": 42,
      "outputs": []
    },
    {
      "cell_type": "code",
      "source": [
        "tf.__version__"
      ],
      "metadata": {
        "colab": {
          "base_uri": "https://localhost:8080/",
          "height": 35
        },
        "id": "hQIPN2JV4QvA",
        "outputId": "b00a8b26-07a4-443a-fdf0-80e62ca2f117"
      },
      "execution_count": 43,
      "outputs": [
        {
          "output_type": "execute_result",
          "data": {
            "text/plain": [
              "'2.13.0'"
            ],
            "application/vnd.google.colaboratory.intrinsic+json": {
              "type": "string"
            }
          },
          "metadata": {},
          "execution_count": 43
        }
      ]
    },
    {
      "cell_type": "code",
      "source": [
        "#prediction and performance metrics\n",
        "train_predict = model.predict(x_train)\n",
        "test_predict = model.predict(x_test)"
      ],
      "metadata": {
        "colab": {
          "base_uri": "https://localhost:8080/"
        },
        "id": "pAPiZd2Q4cjf",
        "outputId": "69b2f221-aa62-46c7-c39b-2329e24060b6"
      },
      "execution_count": 44,
      "outputs": [
        {
          "output_type": "stream",
          "name": "stdout",
          "text": [
            "23/23 [==============================] - 3s 56ms/step\n",
            "11/11 [==============================] - 0s 37ms/step\n"
          ]
        }
      ]
    },
    {
      "cell_type": "code",
      "source": [
        "#transform back to original form -- reverse scaling\n",
        "train_predict = scaler.inverse_transform(train_predict)\n",
        "test_predict = scaler.inverse_transform(test_predict)"
      ],
      "metadata": {
        "id": "GASPHKtW4vJZ"
      },
      "execution_count": 45,
      "outputs": []
    },
    {
      "cell_type": "code",
      "source": [
        "#calculating RMSE performance matrics\n",
        "import math\n",
        "from sklearn.metrics import mean_squared_error\n",
        "math.sqrt(mean_squared_error(y_train,train_predict))"
      ],
      "metadata": {
        "colab": {
          "base_uri": "https://localhost:8080/"
        },
        "id": "TzZWYrSF5B6w",
        "outputId": "87450982-8987-4b55-d453-8002dff6d10e"
      },
      "execution_count": 46,
      "outputs": [
        {
          "output_type": "execute_result",
          "data": {
            "text/plain": [
              "224.54362620661595"
            ]
          },
          "metadata": {},
          "execution_count": 46
        }
      ]
    },
    {
      "cell_type": "code",
      "source": [
        "#test data RMSE\n",
        "math.sqrt(mean_squared_error(y_test,test_predict))"
      ],
      "metadata": {
        "colab": {
          "base_uri": "https://localhost:8080/"
        },
        "id": "TsaCILQ85Ukv",
        "outputId": "3aa523e1-92fd-4bbb-8f87-b79e3fe8896b"
      },
      "execution_count": 47,
      "outputs": [
        {
          "output_type": "execute_result",
          "data": {
            "text/plain": [
              "161.420401686747"
            ]
          },
          "metadata": {},
          "execution_count": 47
        }
      ]
    },
    {
      "cell_type": "code",
      "source": [
        "#plotting\n",
        "#shift train predictions for plotting\n",
        "look_back=100\n",
        "trainPredictPlot=numpy.empty_like(df1)\n",
        "trainPredictPlot[:, :]=np.nan\n",
        "trainPredictPlot[look_back:len(train_predict)+look_back, :]=train_predict\n",
        "#shift test predictions for plotting\n",
        "testPredictPlot=numpy.empty_like(df1)\n",
        "testPredictPlot[:, :]=numpy.nan\n",
        "testPredictPlot[len(train_predict)+(look_back*2)+1:len(df1)-1, :]=test_predict\n",
        "#plotting baseline and predcitions\n",
        "plt.plot(scaler.inverse_transform(df1))\n",
        "plt.plot(trainPredictPlot)\n",
        "plt.plot(testPredictPlot)\n",
        "plt.show()"
      ],
      "metadata": {
        "colab": {
          "base_uri": "https://localhost:8080/",
          "height": 430
        },
        "id": "pV1FpEOQ5d72",
        "outputId": "b4fe50c2-0b04-4262-c582-48f05116d540"
      },
      "execution_count": 49,
      "outputs": [
        {
          "output_type": "display_data",
          "data": {
            "text/plain": [
              "<Figure size 640x480 with 1 Axes>"
            ],
            "image/png": "[encoded data removed]"
          },
          "metadata": {}
        }
      ]
    },
    {
      "cell_type": "code",
      "source": [
        "#predicting future 30 days\n"
      ],
      "metadata": {
        "id": "wzUuR905Cb96"
      },
      "execution_count": 50,
      "outputs": []
    },
    {
      "cell_type": "code",
      "source": [
        "len(test_data)"
      ],
      "metadata": {
        "colab": {
          "base_uri": "https://localhost:8080/"
        },
        "id": "zpAGc5YWDBP8",
        "outputId": "fadb1c2d-1ae9-42e6-8ce5-47e4c318d89f"
      },
      "execution_count": 51,
      "outputs": [
        {
          "output_type": "execute_result",
          "data": {
            "text/plain": [
              "440"
            ]
          },
          "metadata": {},
          "execution_count": 51
        }
      ]
    },
    {
      "cell_type": "code",
      "source": [
        "x_input=test_data[340:].reshape(1,-1)"
      ],
      "metadata": {
        "id": "_F_lZda9DEts"
      },
      "execution_count": 54,
      "outputs": []
    },
    {
      "cell_type": "code",
      "source": [
        "x_input.shape"
      ],
      "metadata": {
        "colab": {
          "base_uri": "https://localhost:8080/"
        },
        "id": "sgDDRTFuDSPD",
        "outputId": "f817177c-9ac7-4e67-e0a0-5846354362c1"
      },
      "execution_count": 55,
      "outputs": [
        {
          "output_type": "execute_result",
          "data": {
            "text/plain": [
              "(1, 100)"
            ]
          },
          "metadata": {},
          "execution_count": 55
        }
      ]
    },
    {
      "cell_type": "code",
      "source": [
        "temp_input=list(x_input)\n",
        "temp_input=temp_input[0].tolist()"
      ],
      "metadata": {
        "id": "ssksC-AZDU13"
      },
      "execution_count": 56,
      "outputs": []
    },
    {
      "cell_type": "code",
      "source": [
        "#demonstrating prediction for next 30 days\n",
        "from numpy import array\n",
        "\n",
        "lst_output=[]\n",
        "n_steps=100\n",
        "i=0\n",
        "while(i<30):\n",
        "  if(len(temp_input)>100):\n",
        "    x_input=np.array(temp_input[1:])\n",
        "    x_input=x_input.reshape(1,-1)\n",
        "    x_input=x_input.reshape((1,n_steps,1))\n",
        "    yhat=model.predict(x_input,verbose=0)\n",
        "    temp_input.extend(yhat[0].tolist())\n",
        "    temp_input=temp_input[1:]\n",
        "    lst_output.extend(yhat.tolist())\n",
        "    i=i+1\n",
        "  else:\n",
        "    x_input=x_input.reshape((1,n_steps,1))\n",
        "    yhat=model.predict(x_input,verbose=0)\n",
        "    temp_input.extend(yhat[0].tolist())\n",
        "    lst_output.extend(yhat.tolist())\n",
        "    i=i+1\n"
      ],
      "metadata": {
        "id": "_8-0V-fODjno"
      },
      "execution_count": 58,
      "outputs": []
    },
    {
      "cell_type": "code",
      "source": [
        "day_new=np.arange(1,101)\n",
        "day_pred=np.arange(101,131)\n"
      ],
      "metadata": {
        "id": "tUbFoTNeFkHT"
      },
      "execution_count": 59,
      "outputs": []
    },
    {
      "cell_type": "code",
      "source": [
        "import matplotlib.pyplot as plt"
      ],
      "metadata": {
        "id": "RKZMVZKTF3Ku"
      },
      "execution_count": 60,
      "outputs": []
    },
    {
      "cell_type": "code",
      "source": [
        "len(df1)"
      ],
      "metadata": {
        "colab": {
          "base_uri": "https://localhost:8080/"
        },
        "id": "060_7LDVF7JT",
        "outputId": "b0350c60-958d-4364-b456-c6a867c695a6"
      },
      "execution_count": 61,
      "outputs": [
        {
          "output_type": "execute_result",
          "data": {
            "text/plain": [
              "1256"
            ]
          },
          "metadata": {},
          "execution_count": 61
        }
      ]
    },
    {
      "cell_type": "code",
      "source": [
        "df3=df1.tolist()\n",
        "df3.extend(lst_output)"
      ],
      "metadata": {
        "id": "W3H12UTBF8aj"
      },
      "execution_count": 62,
      "outputs": []
    },
    {
      "cell_type": "code",
      "source": [
        "plt.plot(day_new,scaler.inverse_transform(df1[1156:]))\n",
        "plt.plot(day_pred,scaler.inverse_transform(lst_output))"
      ],
      "metadata": {
        "colab": {
          "base_uri": "https://localhost:8080/",
          "height": 447
        },
        "id": "XJbhDqz6GEmj",
        "outputId": "6bcee842-2c9f-4457-d77f-ca843fe764ab"
      },
      "execution_count": 63,
      "outputs": [
        {
          "output_type": "execute_result",
          "data": {
            "text/plain": [
              "[<matplotlib.lines.Line2D at 0x7cb96927a6b0>]"
            ]
          },
          "metadata": {},
          "execution_count": 63
        },
        {
          "output_type": "display_data",
          "data": {
            "text/plain": [
              "<Figure size 640x480 with 1 Axes>"
            ],
            "image/png": "[encoded data removed]"
          },
          "metadata": {}
        }
      ]
    },
    {
      "cell_type": "code",
      "source": [
        "df3=df1.tolist()\n",
        "df3.extend(lst_output)\n",
        "plt.plot(df3[1000:])"
      ],
      "metadata": {
        "colab": {
          "base_uri": "https://localhost:8080/",
          "height": 447
        },
        "id": "5pEr4QvhGg9m",
        "outputId": "c58cb5dc-3ee2-41d4-e08b-ffadf507792c"
      },
      "execution_count": 64,
      "outputs": [
        {
          "output_type": "execute_result",
          "data": {
            "text/plain": [
              "[<matplotlib.lines.Line2D at 0x7cb95bf47850>]"
            ]
          },
          "metadata": {},
          "execution_count": 64
        },
        {
          "output_type": "display_data",
          "data": {
            "text/plain": [
              "<Figure size 640x480 with 1 Axes>"
            ],
            "image/png": "[encoded data removed]"
          },
          "metadata": {}
        }
      ]
    },
    {
      "cell_type": "code",
      "source": [],
      "metadata": {
        "id": "Tued3UhAGtEd"
      },
      "execution_count": null,
      "outputs": []
    }
  ]
}